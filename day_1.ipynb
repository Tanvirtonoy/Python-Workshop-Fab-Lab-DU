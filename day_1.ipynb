{
 "cells": [
  {
   "cell_type": "code",
   "execution_count": 1,
   "metadata": {},
   "outputs": [
    {
     "name": "stdout",
     "output_type": "stream",
     "text": [
      "Hello World\n"
     ]
    }
   ],
   "source": [
    "print(\"Hello World\")"
   ]
  },
  {
   "cell_type": "code",
   "execution_count": 2,
   "metadata": {},
   "outputs": [
    {
     "name": "stdout",
     "output_type": "stream",
     "text": [
      "3.5\n"
     ]
    }
   ],
   "source": [
    "a = 2\n",
    "b = 1.5\n",
    "print(a + b)"
   ]
  },
  {
   "cell_type": "code",
   "execution_count": 3,
   "metadata": {},
   "outputs": [
    {
     "name": "stdout",
     "output_type": "stream",
     "text": [
      "Tanvir123\n"
     ]
    }
   ],
   "source": [
    "c = \"Tanvir\"\n",
    "d = \"123\"\n",
    "print(c + d)"
   ]
  },
  {
   "cell_type": "code",
   "execution_count": 4,
   "metadata": {},
   "outputs": [
    {
     "name": "stdout",
     "output_type": "stream",
     "text": [
      "21.5\n"
     ]
    }
   ],
   "source": [
    "a = \"2\"\n",
    "b = \"1.5\"\n",
    "print(a + b)"
   ]
  },
  {
   "cell_type": "code",
   "execution_count": 5,
   "metadata": {},
   "outputs": [
    {
     "name": "stdout",
     "output_type": "stream",
     "text": [
      "Hello\n",
      "World\n"
     ]
    }
   ],
   "source": [
    "a = True\n",
    "b = False\n",
    "if(a == True):\n",
    "    print(\"Hello\")\n",
    "    if(b == True):\n",
    "        a = 3\n",
    "    print(\"World\")"
   ]
  },
  {
   "cell_type": "code",
   "execution_count": 6,
   "metadata": {},
   "outputs": [
    {
     "name": "stdout",
     "output_type": "stream",
     "text": [
      "Enter a number: 56\n",
      "The number is:  56\n"
     ]
    }
   ],
   "source": [
    "number = int(input(\"Enter a number: \"))\n",
    "print(\"The number is: \", number)"
   ]
  },
  {
   "cell_type": "code",
   "execution_count": 7,
   "metadata": {},
   "outputs": [
    {
     "name": "stdout",
     "output_type": "stream",
     "text": [
      "Enter a number: 45\n",
      "Enter another number: 32\n",
      "Sum is:  77\n",
      "Difference is:  13\n",
      "Multiplication is:  1440\n",
      "Division is:  1.40625\n",
      "Integer division is:  1\n"
     ]
    }
   ],
   "source": [
    "n1 = int(input(\"Enter a number: \"))\n",
    "n2 = int(input(\"Enter another number: \"))\n",
    "print(\"Sum is: \", n1 + n2)\n",
    "print(\"Difference is: \", n1 - n2)\n",
    "print(\"Multiplication is: \", n1 * n2)\n",
    "print(\"Division is: \", n1 / n2)\n",
    "print(\"Integer division is: \", n1 // n2)"
   ]
  },
  {
   "cell_type": "code",
   "execution_count": 8,
   "metadata": {},
   "outputs": [
    {
     "name": "stdout",
     "output_type": "stream",
     "text": [
      "Test  0\n",
      "Enter a number:12\n",
      "The number is even\n",
      "Test  1\n",
      "Enter a number:1\n",
      "The number is too small\n",
      "Test  2\n",
      "Enter a number:34\n",
      "The number is even\n",
      "Test  3\n",
      "Enter a number:23\n",
      "The number is odd\n",
      "Test  4\n",
      "Enter a number:1245\n",
      "The number is odd\n",
      "Test  5\n",
      "Enter a number:1\n",
      "The number is too small\n",
      "Test  6\n",
      "Enter a number:9\n",
      "The number is too small\n",
      "Test  7\n",
      "Enter a number:10\n",
      "The number is too small\n",
      "Test  8\n",
      "Enter a number:11\n",
      "The number is odd\n",
      "Test  9\n",
      "Enter a number:111\n",
      "The number is odd\n"
     ]
    }
   ],
   "source": [
    "for i in range(10):\n",
    "    print(\"Test \", i)\n",
    "    number = int(input(\"Enter a number:\"))\n",
    "    if(number <= 10):\n",
    "        print(\"The number is too small\")\n",
    "    elif(number % 2 == 0):\n",
    "        print(\"The number is even\")\n",
    "    else:\n",
    "        print(\"The number is odd\")"
   ]
  },
  {
   "cell_type": "code",
   "execution_count": 9,
   "metadata": {},
   "outputs": [
    {
     "name": "stdout",
     "output_type": "stream",
     "text": [
      "sunday\n",
      "monday\n",
      "tuesday\n",
      "wednesday\n",
      "thursday\n",
      "friday\n",
      "saturday\n",
      "-----------------------------\n",
      "sunday\n",
      "monday\n",
      "tuesday\n",
      "wednesday\n",
      "thursday\n",
      "friday\n",
      "saturday\n"
     ]
    }
   ],
   "source": [
    "days = [\"sunday\", \"monday\", \"tuesday\", \"wednesday\", \"thursday\", \"friday\", \"saturday\"]\n",
    "for day in days:\n",
    "    print(day)\n",
    "print(\"-----------------------------\")\n",
    "for day in range(7):\n",
    "    print(days[day])"
   ]
  },
  {
   "cell_type": "code",
   "execution_count": 10,
   "metadata": {},
   "outputs": [
    {
     "name": "stdout",
     "output_type": "stream",
     "text": [
      "375\n"
     ]
    }
   ],
   "source": [
    "numbers = [12, 34, 56, 3, 67, 32, 14, 56, 67, 34]\n",
    "sum = 0\n",
    "for n in numbers:\n",
    "    sum = sum + n\n",
    "print(sum)"
   ]
  },
  {
   "cell_type": "code",
   "execution_count": 11,
   "metadata": {},
   "outputs": [
    {
     "name": "stdout",
     "output_type": "stream",
     "text": [
      "5050\n",
      "101\n"
     ]
    }
   ],
   "source": [
    "sum = 0\n",
    "i = 1\n",
    "while(True):\n",
    "    sum = sum + i\n",
    "    i = i + 1\n",
    "    if(i > 100):\n",
    "        break\n",
    "print(sum)\n",
    "print(i)"
   ]
  },
  {
   "cell_type": "code",
   "execution_count": 12,
   "metadata": {},
   "outputs": [],
   "source": [
    "import random"
   ]
  },
  {
   "cell_type": "code",
   "execution_count": null,
   "metadata": {},
   "outputs": [],
   "source": [
    "number = int(random.random() * 10000)\n",
    "trycount = 0\n",
    "while(True):\n",
    "    guess = int(input(\"Guess the number: \"))\n",
    "    trycount = trycount + 1\n",
    "    if(number == guess):\n",
    "        print(\"Congratulations!!! You have tried {} times.\".format(trycount))\n",
    "        ##print(\"Congratulations!!! You have tried \", trycount, \" times.\")\n",
    "        break\n",
    "    elif(number > guess):\n",
    "        print(\"Too small\")\n",
    "    else:\n",
    "        print(\"Too large\")"
   ]
  },
  {
   "cell_type": "code",
   "execution_count": null,
   "metadata": {},
   "outputs": [],
   "source": [
    "number = int(random.random() * 10000)\n",
    "trycount = 0\n",
    "low = 0\n",
    "high = 9999\n",
    "while(True):\n",
    "    guess = (low + high) // 2\n",
    "    print(guess)\n",
    "    trycount = trycount + 1\n",
    "    if(number == guess):\n",
    "        print(\"Congratulations!!! The number is {}. You have tried {} times.\".format(number, trycount))\n",
    "        break\n",
    "    elif(number > guess):\n",
    "        print(\"Too small\")\n",
    "        low = guess\n",
    "    else:\n",
    "        print(\"Too large\")\n",
    "        high = guess"
   ]
  },
  {
   "cell_type": "code",
   "execution_count": null,
   "metadata": {},
   "outputs": [],
   "source": []
  }
 ],
 "metadata": {
  "kernelspec": {
   "display_name": "Python 3",
   "language": "python",
   "name": "python3"
  },
  "language_info": {
   "codemirror_mode": {
    "name": "ipython",
    "version": 3
   },
   "file_extension": ".py",
   "mimetype": "text/x-python",
   "name": "python",
   "nbconvert_exporter": "python",
   "pygments_lexer": "ipython3",
   "version": "3.7.1"
  }
 },
 "nbformat": 4,
 "nbformat_minor": 2
}
