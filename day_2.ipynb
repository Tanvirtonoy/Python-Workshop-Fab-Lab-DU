{
 "cells": [
  {
   "cell_type": "code",
   "execution_count": 1,
   "metadata": {},
   "outputs": [],
   "source": [
    "def abs(n):\n",
    "    if(n < 0):\n",
    "        return -n\n",
    "    else:\n",
    "        return n"
   ]
  },
  {
   "cell_type": "code",
   "execution_count": 2,
   "metadata": {},
   "outputs": [
    {
     "name": "stdout",
     "output_type": "stream",
     "text": [
      "Enter a number:21\n",
      "guess is: 10.5\n",
      "guess is: 5.25\n",
      "guess is: 2.625\n",
      "guess is: 3.9375\n",
      "guess is: 4.59375\n",
      "guess is: 4.265625\n",
      "guess is: 4.4296875\n",
      "guess is: 4.51171875\n",
      "guess is: 4.552734375\n",
      "guess is: 4.5732421875\n",
      "guess is: 4.58349609375\n",
      "guess is: 4.578369140625\n",
      "guess is: 4.5809326171875\n",
      "guess is: 4.58221435546875\n",
      "guess is: 4.582855224609375\n",
      "guess is: 4.5825347900390625\n",
      "guess is: 4.582695007324219\n",
      "guess is: 4.582614898681641\n",
      "guess is: 4.582574844360352\n",
      "The square root of 21 is 4.582574844360352\n"
     ]
    }
   ],
   "source": [
    "n = int(input(\"Enter a number:\"))\n",
    "\n",
    "low = 0\n",
    "high = n\n",
    "\n",
    "while(True):\n",
    "    guess = (low + high) / 2\n",
    "    print(\"guess is: {}\".format(guess))\n",
    "    if(abs(guess * guess - n) < 0.00001):\n",
    "        print(\"The square root of {} is {}\".format(n, guess))\n",
    "        break\n",
    "    elif(guess * guess > n):\n",
    "        high = guess\n",
    "    else:\n",
    "        low = guess"
   ]
  },
  {
   "cell_type": "code",
   "execution_count": 3,
   "metadata": {},
   "outputs": [
    {
     "name": "stdout",
     "output_type": "stream",
     "text": [
      "Enter a number:36\n",
      "guess is: 18.0\n",
      "guess is: 9.0\n",
      "guess is: 4.5\n",
      "guess is: 2.25\n",
      "guess is: 3.375\n",
      "guess is: 2.8125\n",
      "guess is: 3.09375\n",
      "guess is: 3.234375\n",
      "guess is: 3.3046875\n",
      "guess is: 3.26953125\n",
      "guess is: 3.287109375\n",
      "guess is: 3.2958984375\n",
      "guess is: 3.30029296875\n",
      "guess is: 3.302490234375\n",
      "guess is: 3.3013916015625\n",
      "guess is: 3.30194091796875\n",
      "guess is: 3.301666259765625\n",
      "guess is: 3.3018035888671875\n",
      "guess is: 3.3018722534179688\n",
      "guess is: 3.3019065856933594\n",
      "guess is: 3.3019237518310547\n",
      "guess is: 3.3019323348999023\n",
      "guess is: 3.3019280433654785\n",
      "guess is: 3.3019258975982666\n",
      "guess is: 3.3019269704818726\n",
      "The cube root of 36 is 3.3019269704818726\n"
     ]
    }
   ],
   "source": [
    "n = int(input(\"Enter a number:\"))\n",
    "\n",
    "low = 0\n",
    "high = n\n",
    "\n",
    "while(True):\n",
    "    guess = (low + high) / 2\n",
    "    print(\"guess is: {}\".format(guess))\n",
    "    if(n < 0):\n",
    "        if(abs(guess * guess * guess - n) < 0.00001):\n",
    "            print(\"The cube root of {} is {}\".format(n, guess))\n",
    "            break\n",
    "        elif(guess * guess * guess > n):\n",
    "            low = guess\n",
    "        else:\n",
    "            high = guess\n",
    "    else:\n",
    "        if(abs(guess * guess * guess - n) < 0.00001):\n",
    "            print(\"The cube root of {} is {}\".format(n, guess))\n",
    "            break\n",
    "        elif(guess * guess * guess > n):\n",
    "            high = guess\n",
    "        else:\n",
    "            low = guess"
   ]
  },
  {
   "cell_type": "code",
   "execution_count": 4,
   "metadata": {},
   "outputs": [],
   "source": [
    "def fibonacci(n):\n",
    "    a = 1\n",
    "    b = 1\n",
    "    while(a < n):\n",
    "        print(a)\n",
    "        a, b = b, a + b"
   ]
  },
  {
   "cell_type": "code",
   "execution_count": 5,
   "metadata": {},
   "outputs": [
    {
     "name": "stdout",
     "output_type": "stream",
     "text": [
      "1\n",
      "1\n",
      "2\n",
      "3\n",
      "5\n",
      "8\n"
     ]
    }
   ],
   "source": [
    "fibonacci(10)"
   ]
  },
  {
   "cell_type": "code",
   "execution_count": 6,
   "metadata": {},
   "outputs": [],
   "source": [
    "def fib(n):\n",
    "    arr = [1 for i in range(n)]\n",
    "    for i in range(2, n):\n",
    "        arr[i] = arr[i - 1] + arr[i - 2]\n",
    "    print(arr)"
   ]
  },
  {
   "cell_type": "code",
   "execution_count": 7,
   "metadata": {},
   "outputs": [
    {
     "name": "stdout",
     "output_type": "stream",
     "text": [
      "[1, 1, 2, 3, 5, 8, 13, 21, 34, 55]\n"
     ]
    }
   ],
   "source": [
    "fib(10)"
   ]
  },
  {
   "cell_type": "code",
   "execution_count": 8,
   "metadata": {},
   "outputs": [],
   "source": [
    "def factorial(n):\n",
    "    arr = [1 for i in range(n)]\n",
    "    for i in range(1, n):\n",
    "        arr[i] = i * arr[i - 1]\n",
    "    print(arr)"
   ]
  },
  {
   "cell_type": "code",
   "execution_count": 9,
   "metadata": {},
   "outputs": [
    {
     "name": "stdout",
     "output_type": "stream",
     "text": [
      "[1, 1, 2, 6, 24, 120, 720, 5040, 40320, 362880]\n"
     ]
    }
   ],
   "source": [
    "factorial(10)"
   ]
  },
  {
   "cell_type": "code",
   "execution_count": 10,
   "metadata": {},
   "outputs": [],
   "source": [
    "def fact(n):\n",
    "    a = 1\n",
    "    for i in range(1, n + 1):\n",
    "        a = a * i\n",
    "    print(\"Factorial of {} is {}\".format(n, a))"
   ]
  },
  {
   "cell_type": "code",
   "execution_count": 11,
   "metadata": {},
   "outputs": [
    {
     "name": "stdout",
     "output_type": "stream",
     "text": [
      "Factorial of 10 is 3628800\n"
     ]
    }
   ],
   "source": [
    "fact(10)"
   ]
  },
  {
   "cell_type": "code",
   "execution_count": 12,
   "metadata": {},
   "outputs": [],
   "source": [
    "def fact1(n):\n",
    "    ret = 1\n",
    "    while(n > 0):\n",
    "        ret = ret * n\n",
    "        n = n - 1\n",
    "    return ret"
   ]
  },
  {
   "cell_type": "code",
   "execution_count": 13,
   "metadata": {},
   "outputs": [
    {
     "data": {
      "text/plain": [
       "3628800"
      ]
     },
     "execution_count": 13,
     "metadata": {},
     "output_type": "execute_result"
    }
   ],
   "source": [
    "fact1(10)"
   ]
  },
  {
   "cell_type": "code",
   "execution_count": 14,
   "metadata": {},
   "outputs": [],
   "source": [
    "def printDigits(n):\n",
    "    digits = [0 for i in range(10)]\n",
    "    length = 0\n",
    "    while(n > 0):\n",
    "        digits[length] = n % 10\n",
    "        n = n // 10\n",
    "        length = length + 1\n",
    "    while(length > 0):\n",
    "        length = length - 1\n",
    "        print(digits[length])"
   ]
  },
  {
   "cell_type": "code",
   "execution_count": 15,
   "metadata": {},
   "outputs": [
    {
     "name": "stdout",
     "output_type": "stream",
     "text": [
      "1\n",
      "2\n",
      "3\n",
      "4\n"
     ]
    }
   ],
   "source": [
    "printDigits(1234)"
   ]
  },
  {
   "cell_type": "code",
   "execution_count": 16,
   "metadata": {},
   "outputs": [],
   "source": [
    "def digitSum(n):\n",
    "    sum = 0\n",
    "    while(n > 0):\n",
    "        sum = sum + n % 10\n",
    "        n = n // 10\n",
    "    return sum"
   ]
  },
  {
   "cell_type": "code",
   "execution_count": 17,
   "metadata": {},
   "outputs": [
    {
     "data": {
      "text/plain": [
       "10"
      ]
     },
     "execution_count": 17,
     "metadata": {},
     "output_type": "execute_result"
    }
   ],
   "source": [
    "digitSum(1234)"
   ]
  },
  {
   "cell_type": "code",
   "execution_count": 18,
   "metadata": {},
   "outputs": [],
   "source": [
    "import random"
   ]
  },
  {
   "cell_type": "code",
   "execution_count": 19,
   "metadata": {},
   "outputs": [],
   "source": [
    "def getNumber():\n",
    "    a = int(random.random() * 10)\n",
    "    b = int(random.random() * 10)\n",
    "    while(a == b):\n",
    "        b = int(random.random() * 10)\n",
    "    c = int(random.random() * 10)\n",
    "    while(c == a or c == b):\n",
    "        c = int(random.random() * 10)\n",
    "    return a * 100 + b * 10 + c"
   ]
  },
  {
   "cell_type": "code",
   "execution_count": 21,
   "metadata": {},
   "outputs": [
    {
     "name": "stdout",
     "output_type": "stream",
     "text": [
      "Random 3 digit number: 582\n"
     ]
    }
   ],
   "source": [
    "print(\"Random 3 digit number: {}\".format(getNumber()))"
   ]
  },
  {
   "cell_type": "code",
   "execution_count": 22,
   "metadata": {},
   "outputs": [],
   "source": [
    "def getDigits(n):\n",
    "    # 123 => [1,2,3]\n",
    "    arr = [0 for i in range(3)]\n",
    "    index = 2\n",
    "    while(index >= 0):\n",
    "        arr[index] = n % 10\n",
    "        n = n // 10\n",
    "        index = index - 1\n",
    "    return arr"
   ]
  },
  {
   "cell_type": "code",
   "execution_count": 24,
   "metadata": {},
   "outputs": [],
   "source": [
    "def getDigitCount(n):\n",
    "    # 123 => [0,1,1,1,0,0,0,0,0,0]\n",
    "    arr = [0 for i in range(10)]\n",
    "    index = 2\n",
    "    while(index >= 0):\n",
    "        arr[n % 10] = 1\n",
    "        n = n // 10\n",
    "        index = index - 1\n",
    "    return arr"
   ]
  },
  {
   "cell_type": "code",
   "execution_count": 25,
   "metadata": {},
   "outputs": [],
   "source": [
    "def defense(n):\n",
    "    guess = getDigits(n)\n",
    "    s = 0\n",
    "    b = 0\n",
    "    for i in range(3):\n",
    "        if(guess[i] == digits[i]):\n",
    "            s = s + 1\n",
    "        elif(digit_c[guess[i]] > 0):\n",
    "            b = b + 1\n",
    "    return s, b"
   ]
  },
  {
   "cell_type": "code",
   "execution_count": 26,
   "metadata": {},
   "outputs": [
    {
     "name": "stdout",
     "output_type": "stream",
     "text": [
      "Let's play Baseball!\n",
      "Please guess: 012\n",
      "Strike: 0, Ball: 1\n",
      "Please guess: 134\n",
      "Strike: 1, Ball: 0\n",
      "Please guess: 156\n",
      "Strike: 1, Ball: 0\n",
      "Please guess: 178\n",
      "Strike: 0, Ball: 0\n",
      "Please guess: 936\n",
      "Strike: 0, Ball: 0\n",
      "Please guess: 254\n",
      "Congratulations! You have guessed the number in 6 tries\n"
     ]
    }
   ],
   "source": [
    "print(\"Let's play Baseball!\")\n",
    "number = getNumber()\n",
    "digits = getDigits(number)\n",
    "digit_c = getDigitCount(number)\n",
    "count = 0\n",
    "while(True):\n",
    "    guess_number = int(input(\"Please guess: \"))\n",
    "    strike, ball = defense(guess_number)\n",
    "    count = count + 1\n",
    "    if(strike == 3):\n",
    "        print(\"Congratulations! You have guessed the number in {} tries\".format(count))\n",
    "        break\n",
    "    else:\n",
    "        print(\"Strike: {}, Ball: {}\".format(strike, ball))"
   ]
  },
  {
   "cell_type": "code",
   "execution_count": null,
   "metadata": {},
   "outputs": [],
   "source": []
  }
 ],
 "metadata": {
  "kernelspec": {
   "display_name": "Python 3",
   "language": "python",
   "name": "python3"
  },
  "language_info": {
   "codemirror_mode": {
    "name": "ipython",
    "version": 3
   },
   "file_extension": ".py",
   "mimetype": "text/x-python",
   "name": "python",
   "nbconvert_exporter": "python",
   "pygments_lexer": "ipython3",
   "version": "3.7.1"
  }
 },
 "nbformat": 4,
 "nbformat_minor": 2
}
